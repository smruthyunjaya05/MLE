{
  "nbformat": 4,
  "nbformat_minor": 0,
  "metadata": {
    "colab": {
      "private_outputs": true,
      "provenance": [],
      "authorship_tag": "ABX9TyOXpxRGflol+Ev2cDbjeBo3",
      "include_colab_link": true
    },
    "kernelspec": {
      "name": "python3",
      "display_name": "Python 3"
    },
    "language_info": {
      "name": "python"
    }
  },
  "cells": [
    {
      "cell_type": "markdown",
      "metadata": {
        "id": "view-in-github",
        "colab_type": "text"
      },
      "source": [
        "<a href=\"https://colab.research.google.com/github/smruthyunjaya05/MLE/blob/main/Tokenizing_and_Counting_Word_Frequency.ipynb\" target=\"_parent\"><img src=\"https://colab.research.google.com/assets/colab-badge.svg\" alt=\"Open In Colab\"/></a>"
      ]
    },
    {
      "cell_type": "code",
      "execution_count": null,
      "metadata": {
        "id": "U0CRSjjMn4tX"
      },
      "outputs": [],
      "source": [
        "import re\n",
        "from collections import Counter\n",
        "from nltk.corpus import stopwords\n",
        "import nltk\n",
        "\n",
        "nltk.download('stopwords')\n",
        "\n",
        "def tokenize_and_count_frequency(text):\n",
        "    words = re.findall(r'\\b[a-z]+\\b', text.lower())  # Tokenize lowercase words\n",
        "    stop_words = set(stopwords.words('english'))     # Get English stopwords\n",
        "    filtered_words = [word for word in words if word not in stop_words]\n",
        "    return Counter(filtered_words)\n",
        "\n",
        "sample_text = \"This is a sample text. It is used for testing the NLTK word frequency counting functionality.\"\n",
        "word_freq = tokenize_and_count_frequency(sample_text)\n",
        "\n",
        "for word, freq in word_freq.items():\n",
        "    print(f\"{word}: {freq}\")\n"
      ]
    }
  ]
}