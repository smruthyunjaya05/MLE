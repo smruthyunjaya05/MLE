{
  "nbformat": 4,
  "nbformat_minor": 0,
  "metadata": {
    "colab": {
      "private_outputs": true,
      "provenance": [],
      "authorship_tag": "ABX9TyM0yDeCi5pc9CC1m0xSnfBC",
      "include_colab_link": true
    },
    "kernelspec": {
      "name": "python3",
      "display_name": "Python 3"
    },
    "language_info": {
      "name": "python"
    }
  },
  "cells": [
    {
      "cell_type": "markdown",
      "metadata": {
        "id": "view-in-github",
        "colab_type": "text"
      },
      "source": [
        "<a href=\"https://colab.research.google.com/github/smruthyunjaya05/MLE/blob/main/HOUGH_TRANSFORM.ipynb\" target=\"_parent\"><img src=\"https://colab.research.google.com/assets/colab-badge.svg\" alt=\"Open In Colab\"/></a>"
      ]
    },
    {
      "cell_type": "code",
      "execution_count": null,
      "metadata": {
        "id": "YOE8sMcBj8Uw"
      },
      "outputs": [],
      "source": [
        "import cv2\n",
        "import numpy as np\n",
        "import matplotlib.pyplot as plt"
      ]
    },
    {
      "cell_type": "code",
      "source": [
        "img = cv2.imread('/content/sample.jpg')"
      ],
      "metadata": {
        "id": "THPHKaogkE6c"
      },
      "execution_count": null,
      "outputs": []
    },
    {
      "cell_type": "code",
      "source": [
        "gray = cv2.cvtColor(img, cv2.COLOR_BGR2GRAY)\n",
        "edges = cv2.Canny(gray, 50, 150)\n",
        "\n",
        "lines = cv2.HoughLines(edges, 1, np.pi / 180, 150)\n",
        "\n",
        "if lines is not None:\n",
        "    for rho, theta in lines[:, 0]:\n",
        "        a, b = np.cos(theta), np.sin(theta)\n",
        "        x0, y0 = a * rho, b * rho\n",
        "        x1, y1 = int(x0 + 1000 * -b), int(y0 + 1000 * a)\n",
        "        x2, y2 = int(x0 - 1000 * -b), int(y0 - 1000 * a)\n",
        "        cv2.line(img, (x1, y1), (x2, y2), (0, 255, 0), 2)\n",
        "        print(f\"rho = {rho:.2f}, theta = {np.degrees(theta):.2f}°\")\n",
        "\n",
        "plt.imshow(cv2.cvtColor(img, cv2.COLOR_BGR2RGB))\n",
        "plt.title('Hough Line Detection (Polar Coordinates)')\n",
        "plt.axis('off')\n",
        "plt.show()\n"
      ],
      "metadata": {
        "id": "Jo3whUq6kGgs"
      },
      "execution_count": null,
      "outputs": []
    },
    {
      "cell_type": "code",
      "source": [
        "edges = cv2.Canny(cv2.cvtColor(img, cv2.COLOR_BGR2GRAY), 50, 150)\n",
        "lines = cv2.HoughLines(edges, 1, np.pi / 180, 150)\n",
        "\n",
        "if lines is not None:\n",
        "    for rho, theta in lines[:, 0]:\n",
        "        a, b = np.cos(theta), np.sin(theta)\n",
        "        x0, y0 = a * rho, b * rho\n",
        "        x1, y1 = int(x0 + 1000 * -b), int(y0 + 1000 * a)\n",
        "        x2, y2 = int(x0 - 1000 * -b), int(y0 - 1000 * a)\n",
        "        cv2.line(img, (x1, y1), (x2, y2), (0, 255, 0), 2)\n",
        "        if x2 != x1:\n",
        "            m = (y2 - y1) / (x2 - x1)\n",
        "            print(f\"y = {m:.2f}x + {y1 - m * x1:.2f}\")\n",
        "        else:\n",
        "            print(f\"x = {x1} (vertical line)\")\n",
        "\n",
        "plt.imshow(cv2.cvtColor(img, cv2.COLOR_BGR2RGB))\n",
        "plt.title('Hough Line Detection (y = mx + b)')\n",
        "plt.axis('off')\n",
        "plt.show()"
      ],
      "metadata": {
        "id": "7Zu8a-GznZeJ"
      },
      "execution_count": null,
      "outputs": []
    },
    {
      "cell_type": "code",
      "source": [],
      "metadata": {
        "id": "8Mk0I9f9nk_A"
      },
      "execution_count": null,
      "outputs": []
    }
  ]
}