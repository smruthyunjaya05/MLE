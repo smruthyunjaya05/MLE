{
  "nbformat": 4,
  "nbformat_minor": 0,
  "metadata": {
    "colab": {
      "private_outputs": true,
      "provenance": [],
      "authorship_tag": "ABX9TyP0YM9SkbnheV5zikk+deAf",
      "include_colab_link": true
    },
    "kernelspec": {
      "name": "python3",
      "display_name": "Python 3"
    },
    "language_info": {
      "name": "python"
    }
  },
  "cells": [
    {
      "cell_type": "markdown",
      "metadata": {
        "id": "view-in-github",
        "colab_type": "text"
      },
      "source": [
        "<a href=\"https://colab.research.google.com/github/smruthyunjaya05/MLE/blob/main/histogram_equalization.ipynb\" target=\"_parent\"><img src=\"https://colab.research.google.com/assets/colab-badge.svg\" alt=\"Open In Colab\"/></a>"
      ]
    },
    {
      "cell_type": "code",
      "execution_count": null,
      "metadata": {
        "id": "kb2TD3UtR64s"
      },
      "outputs": [],
      "source": [
        "import cv2\n",
        "import numpy as np\n",
        "import matplotlib.pyplot as plt"
      ]
    },
    {
      "cell_type": "code",
      "source": [
        "# Load image and convert to grayscale\n",
        "img = cv2.imread('/content/moon.jpg', cv2.IMREAD_GRAYSCALE)\n",
        "\n",
        "# Apply histogram equalization\n",
        "equalized = cv2.equalizeHist(img)"
      ],
      "metadata": {
        "id": "TkqXr071SB8p"
      },
      "execution_count": null,
      "outputs": []
    },
    {
      "cell_type": "code",
      "source": [
        "# Plot images and histograms\n",
        "plt.figure(figsize=(12, 6))\n",
        "\n",
        "# Original image\n",
        "plt.subplot(2, 2, 1)\n",
        "plt.imshow(img, cmap='gray')\n",
        "plt.title('Original Image')\n",
        "plt.axis('off')\n",
        "\n",
        "# Equalized image\n",
        "plt.subplot(2, 2, 2)\n",
        "plt.imshow(equalized, cmap='gray')\n",
        "plt.title('Equalized Image')\n",
        "plt.axis('off')"
      ],
      "metadata": {
        "id": "89YjFDV3SFzY"
      },
      "execution_count": null,
      "outputs": []
    },
    {
      "cell_type": "code",
      "source": [
        "\n",
        "# Histogram of original\n",
        "plt.subplot(2, 2, 3)\n",
        "plt.hist(img.ravel(), 256, [0, 256], color='blue')\n",
        "plt.title('Original Histogram')\n",
        "\n",
        "# Histogram of equalized\n",
        "plt.subplot(2, 2, 4)\n",
        "plt.hist(equalized.ravel(), 256, [0, 256], color='green')\n",
        "plt.title('Equalized Histogram')\n",
        "\n",
        "plt.tight_layout()\n",
        "plt.show()\n"
      ],
      "metadata": {
        "id": "yiWq_1q3SDdf"
      },
      "execution_count": null,
      "outputs": []
    },
    {
      "cell_type": "code",
      "source": [],
      "metadata": {
        "id": "C2VNu0n5SXAH"
      },
      "execution_count": null,
      "outputs": []
    }
  ]
}