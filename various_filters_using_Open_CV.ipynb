{
  "nbformat": 4,
  "nbformat_minor": 0,
  "metadata": {
    "colab": {
      "private_outputs": true,
      "provenance": [],
      "authorship_tag": "ABX9TyMnC0MS+gPj4lmkad0whX62",
      "include_colab_link": true
    },
    "kernelspec": {
      "name": "python3",
      "display_name": "Python 3"
    },
    "language_info": {
      "name": "python"
    }
  },
  "cells": [
    {
      "cell_type": "markdown",
      "metadata": {
        "id": "view-in-github",
        "colab_type": "text"
      },
      "source": [
        "<a href=\"https://colab.research.google.com/github/smruthyunjaya05/MLE/blob/main/various_filters_using_Open_CV.ipynb\" target=\"_parent\"><img src=\"https://colab.research.google.com/assets/colab-badge.svg\" alt=\"Open In Colab\"/></a>"
      ]
    },
    {
      "cell_type": "code",
      "execution_count": null,
      "metadata": {
        "id": "RMcZ1-n4O4vV"
      },
      "outputs": [],
      "source": [
        "import cv2\n",
        "import numpy as np\n",
        "import matplotlib.pyplot as plt"
      ]
    },
    {
      "cell_type": "code",
      "source": [
        "image = cv2.imread('/content/r1.jpg')"
      ],
      "metadata": {
        "id": "j5aDhXcSPK1x"
      },
      "execution_count": null,
      "outputs": []
    },
    {
      "cell_type": "code",
      "source": [
        "image = cv2.cvtColor(image, cv2.COLOR_BGR2RGB)\n",
        "\n",
        "avg_blur = cv2.blur(image, (7, 7))\n",
        "gaussian_blur = cv2.GaussianBlur(image, (7, 7), 0)\n",
        "median_blur = cv2.medianBlur(image, 5)\n",
        "bilateral_filter = cv2.bilateralFilter(image, 9, 75, 75)"
      ],
      "metadata": {
        "id": "CvZF7zA2PNHU"
      },
      "execution_count": null,
      "outputs": []
    },
    {
      "cell_type": "code",
      "source": [
        "titles = ['Original Image', 'Averaging Blur', 'Gaussian Blur', 'Median Blur', 'Bilateral Filter']\n",
        "images = [image, avg_blur, gaussian_blur, median_blur, bilateral_filter]\n",
        "\n",
        "plt.figure(figsize=(15, 10))\n",
        "for i in range(5):\n",
        "    plt.subplot(2, 3, i+1)\n",
        "    plt.imshow(images[i])\n",
        "    plt.title(titles[i])\n",
        "    plt.axis('off')\n",
        "plt.tight_layout()\n",
        "plt.show()"
      ],
      "metadata": {
        "id": "k_7wYwtDPPxR"
      },
      "execution_count": null,
      "outputs": []
    },
    {
      "cell_type": "code",
      "source": [],
      "metadata": {
        "id": "BQNNhZvWPVsA"
      },
      "execution_count": null,
      "outputs": []
    }
  ]
}