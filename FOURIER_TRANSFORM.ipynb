{
  "nbformat": 4,
  "nbformat_minor": 0,
  "metadata": {
    "colab": {
      "private_outputs": true,
      "provenance": [],
      "authorship_tag": "ABX9TyMCR//2EfjwEaWXvxRHKxPd",
      "include_colab_link": true
    },
    "kernelspec": {
      "name": "python3",
      "display_name": "Python 3"
    },
    "language_info": {
      "name": "python"
    }
  },
  "cells": [
    {
      "cell_type": "markdown",
      "metadata": {
        "id": "view-in-github",
        "colab_type": "text"
      },
      "source": [
        "<a href=\"https://colab.research.google.com/github/smruthyunjaya05/MLE/blob/main/FOURIER_TRANSFORM.ipynb\" target=\"_parent\"><img src=\"https://colab.research.google.com/assets/colab-badge.svg\" alt=\"Open In Colab\"/></a>"
      ]
    },
    {
      "cell_type": "code",
      "execution_count": null,
      "metadata": {
        "id": "DA062_3PSkio"
      },
      "outputs": [],
      "source": [
        "import cv2\n",
        "import numpy as np\n",
        "import matplotlib.pyplot as plt"
      ]
    },
    {
      "cell_type": "code",
      "source": [
        "img = cv2.imread('/content/sample.png', 0)"
      ],
      "metadata": {
        "id": "T7BvS_UhS7SX"
      },
      "execution_count": null,
      "outputs": []
    },
    {
      "cell_type": "code",
      "source": [
        "f = np.fft.fftshift(np.fft.fft2(img))\n",
        "rows, cols = img.shape\n",
        "crow, ccol = rows//2, cols//2\n",
        "\n",
        "mask_lp = np.zeros((rows, cols), np.uint8)\n",
        "cv2.circle(mask_lp, (ccol, crow), 50, 1, -1)\n",
        "mask_hp = 1 - mask_lp\n",
        "\n",
        "img_lp = np.abs(np.fft.ifft2(np.fft.ifftshift(f * mask_lp)))\n",
        "img_hp = np.abs(np.fft.ifft2(np.fft.ifftshift(f * mask_hp)))"
      ],
      "metadata": {
        "id": "nxqOYt9NS9nt"
      },
      "execution_count": null,
      "outputs": []
    },
    {
      "cell_type": "code",
      "source": [
        "titles = ['Original', 'Low-Pass', 'High-Pass']\n",
        "images = [img, img_lp, img_hp]\n",
        "\n",
        "plt.figure(figsize=(12, 4))\n",
        "for i in range(3):\n",
        "    plt.subplot(1, 3, i+1)\n",
        "    plt.imshow(images[i], cmap='gray')\n",
        "    plt.title(titles[i])\n",
        "    plt.axis('off')\n",
        "plt.tight_layout()\n",
        "plt.show()"
      ],
      "metadata": {
        "id": "1lSoxrG4S_o0"
      },
      "execution_count": null,
      "outputs": []
    },
    {
      "cell_type": "code",
      "source": [],
      "metadata": {
        "id": "liRdl97XTL3J"
      },
      "execution_count": null,
      "outputs": []
    }
  ]
}