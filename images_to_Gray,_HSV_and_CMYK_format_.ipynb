{
  "nbformat": 4,
  "nbformat_minor": 0,
  "metadata": {
    "colab": {
      "private_outputs": true,
      "provenance": [],
      "authorship_tag": "ABX9TyOgGGtd6LVqzOtoKcy+5tpB",
      "include_colab_link": true
    },
    "kernelspec": {
      "name": "python3",
      "display_name": "Python 3"
    },
    "language_info": {
      "name": "python"
    }
  },
  "cells": [
    {
      "cell_type": "markdown",
      "metadata": {
        "id": "view-in-github",
        "colab_type": "text"
      },
      "source": [
        "<a href=\"https://colab.research.google.com/github/smruthyunjaya05/MLE/blob/main/images_to_Gray%2C_HSV_and_CMYK_format_.ipynb\" target=\"_parent\"><img src=\"https://colab.research.google.com/assets/colab-badge.svg\" alt=\"Open In Colab\"/></a>"
      ]
    },
    {
      "cell_type": "code",
      "execution_count": null,
      "metadata": {
        "id": "E6rmGpuMQftC"
      },
      "outputs": [],
      "source": [
        "import cv2\n",
        "import numpy as np\n",
        "import matplotlib.pyplot as plt"
      ]
    },
    {
      "cell_type": "code",
      "source": [
        "img = cv2.imread('/content/sample.jpg')\n",
        "img_rgb = cv2.cvtColor(img, cv2.COLOR_BGR2RGB)\n",
        "gray = cv2.cvtColor(img, cv2.COLOR_BGR2GRAY)\n",
        "hsv = cv2.cvtColor(img, cv2.COLOR_BGR2HSV)\n",
        "\n",
        "bgr = img.astype(float) / 255\n",
        "K = 1 - np.max(bgr, axis=2)\n",
        "C = (1 - bgr[..., 2] - K) / (1 - K + 1e-5)\n",
        "M = (1 - bgr[..., 1] - K) / (1 - K + 1e-5)\n",
        "Y = (1 - bgr[..., 0] - K) / (1 - K + 1e-5)\n",
        "CMYK = np.stack((C, M, Y, K), axis=-1)"
      ],
      "metadata": {
        "id": "YNqC6j4cRU86"
      },
      "execution_count": null,
      "outputs": []
    },
    {
      "cell_type": "code",
      "source": [
        "\n",
        "titles = ['RGB', 'Grayscale', 'HSV', 'CMY (approx)']\n",
        "images = [img_rgb, gray, cv2.cvtColor(hsv, cv2.COLOR_HSV2RGB), CMYK[..., :3]]\n",
        "\n",
        "plt.figure(figsize=(12, 6))\n",
        "for i in range(4):\n",
        "    plt.subplot(2, 2, i + 1)\n",
        "    plt.imshow(images[i], cmap='gray' if titles[i] == 'Grayscale' else None)\n",
        "    plt.title(titles[i])\n",
        "    plt.axis('off')\n",
        "plt.tight_layout()\n",
        "plt.show()"
      ],
      "metadata": {
        "id": "YDdt3WKBRZNY"
      },
      "execution_count": null,
      "outputs": []
    },
    {
      "cell_type": "code",
      "source": [],
      "metadata": {
        "id": "Fimi6BURRipV"
      },
      "execution_count": null,
      "outputs": []
    }
  ]
}