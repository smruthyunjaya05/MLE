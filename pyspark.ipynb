{
  "nbformat": 4,
  "nbformat_minor": 0,
  "metadata": {
    "colab": {
      "private_outputs": true,
      "provenance": [],
      "authorship_tag": "ABX9TyOkRdrZSwbiJInYT7RoXy/o",
      "include_colab_link": true
    },
    "kernelspec": {
      "name": "python3",
      "display_name": "Python 3"
    },
    "language_info": {
      "name": "python"
    }
  },
  "cells": [
    {
      "cell_type": "markdown",
      "metadata": {
        "id": "view-in-github",
        "colab_type": "text"
      },
      "source": [
        "<a href=\"https://colab.research.google.com/github/smruthyunjaya05/MLE/blob/main/pyspark.ipynb\" target=\"_parent\"><img src=\"https://colab.research.google.com/assets/colab-badge.svg\" alt=\"Open In Colab\"/></a>"
      ]
    },
    {
      "cell_type": "code",
      "execution_count": null,
      "metadata": {
        "id": "XrjTK8GEtOt-"
      },
      "outputs": [],
      "source": [
        "from pyspark.sql import SparkSession\n",
        "from pyspark.sql.functions import col, min, max, expr\n",
        "\n",
        "# Create Spark session\n",
        "spark = SparkSession.builder.appName(\"PercentilesExample\").getOrCreate()\n",
        "\n",
        "# Example DataFrame\n",
        "data = [(10,), (20,), (15,), (30,), (45,), (50,), (60,), (70,), (80,), (90,)]\n",
        "df = spark.createDataFrame(data, [\"values\"])\n",
        "\n",
        "# Min and Max\n",
        "df.select(min(\"values\"), max(\"values\")).show()\n",
        "\n",
        "# Percentiles (25, 50, 75)\n",
        "percentiles = df.approxQuantile(\"values\", [0.25, 0.5, 0.75], 0.0)\n",
        "print(\"25th:\", percentiles[0])\n",
        "print(\"Median:\", percentiles[1])\n",
        "print(\"75th:\", percentiles[2])\n"
      ]
    },
    {
      "cell_type": "code",
      "source": [
        "from pyspark.sql import functions as F\n",
        "\n",
        "# Example DataFrame\n",
        "data = [(\"Delhi\",), (\"Mumbai\",), (\"Delhi\",), (\"Chennai\",), (\"Kolkata\",),\n",
        "        (\"Delhi\",), (\"Mumbai\",), (\"Bangalore\",), (\"Chennai\",), (\"Delhi\",)]\n",
        "df = spark.createDataFrame(data, [\"city\"])\n",
        "\n",
        "# Find top 2 frequent values\n",
        "top2 = [row[\"city\"] for row in df.groupBy(\"city\").count().orderBy(F.desc(\"count\")).limit(2).collect()]\n",
        "\n",
        "# Replace others with \"Other\"\n",
        "df = df.withColumn(\"city\", F.when(F.col(\"city\").isin(top2), F.col(\"city\")).otherwise(\"Other\"))\n",
        "\n",
        "df.show()\n"
      ],
      "metadata": {
        "id": "nnZmlD9jtZTo"
      },
      "execution_count": null,
      "outputs": []
    },
    {
      "cell_type": "code",
      "source": [
        "data = [(\"A\", 23, \"Delhi\"),\n",
        "        (\"B\", None, \"Mumbai\"),\n",
        "        (\"C\", 35, None),\n",
        "        (\"D\", None, \"Chennai\")]\n",
        "df = spark.createDataFrame(data, [\"name\", \"age\", \"city\"])\n",
        "\n",
        "print(\"Before dropping:\")\n",
        "df.show()\n",
        "\n",
        "# Drop rows where \"age\" is NULL\n",
        "df_clean = df.na.drop(subset=[\"age\"])\n",
        "\n",
        "print(\"After dropping:\")\n",
        "df_clean.show()\n"
      ],
      "metadata": {
        "id": "WNMRkOGCtjju"
      },
      "execution_count": null,
      "outputs": []
    },
    {
      "cell_type": "code",
      "source": [
        "from pyspark.sql import SparkSession\n",
        "\n",
        "# Create Spark session\n",
        "spark = SparkSession.builder.appName(\"RenameColumns\").getOrCreate()\n",
        "\n",
        "# Example DataFrame\n",
        "data = [(1, \"Alice\", 25), (2, \"Bob\", 30)]\n",
        "df = spark.createDataFrame(data, [\"id\", \"name\", \"age\"])\n",
        "\n",
        "print(\"Before rename:\")\n",
        "df.show()\n",
        "\n",
        "# Old and new column names\n",
        "old_cols = [\"id\", \"name\", \"age\"]\n",
        "new_cols = [\"user_id\", \"full_name\", \"user_age\"]\n",
        "\n",
        "# Rename using reduce (or simple loop)\n",
        "for old, new in zip(old_cols, new_cols):\n",
        "    df = df.withColumnRenamed(old, new)\n",
        "\n",
        "print(\"After rename:\")\n",
        "df.show()\n"
      ],
      "metadata": {
        "id": "P-HJnGKRt4KO"
      },
      "execution_count": null,
      "outputs": []
    },
    {
      "cell_type": "code",
      "source": [
        "from pyspark.sql import SparkSession\n",
        "from pyspark.sql import functions as F\n",
        "\n",
        "# Create Spark session\n",
        "spark = SparkSession.builder.appName(\"ExtractItems\").getOrCreate()\n",
        "\n",
        "# Example DataFrame with an array column\n",
        "data = [\n",
        "    (1, [\"a\", \"b\", \"c\", \"d\"]),\n",
        "    (2, [\"x\", \"y\", \"z\"]),\n",
        "    (3, [\"p\", \"q\"])\n",
        "]\n",
        "df = spark.createDataFrame(data, [\"id\", \"items\"])\n",
        "\n",
        "print(\"Original DataFrame:\")\n",
        "df.show(truncate=False)\n",
        "\n",
        "# Extract items at given positions (0-based indexing)\n",
        "df = df.withColumn(\"first_item\", F.col(\"items\")[0]) \\\n",
        "       .withColumn(\"second_item\", F.col(\"items\")[1])\n",
        "\n",
        "print(\"After extracting positions:\")\n",
        "df.show(truncate=False)\n"
      ],
      "metadata": {
        "id": "Kx_eZ-lqt7jN"
      },
      "execution_count": null,
      "outputs": []
    },
    {
      "cell_type": "code",
      "source": [
        "from pyspark.sql import SparkSession\n",
        "from pyspark.sql import functions as F\n",
        "\n",
        "# Create Spark session\n",
        "spark = SparkSession.builder.appName(\"MSEExample\").getOrCreate()\n",
        "\n",
        "# Example DataFrame with truth and prediction columns\n",
        "data = [\n",
        "    (1.0, 1.2),\n",
        "    (2.0, 1.8),\n",
        "    (3.0, 2.5),\n",
        "    (4.0, 4.2)\n",
        "]\n",
        "df = spark.createDataFrame(data, [\"truth\", \"prediction\"])\n",
        "\n",
        "# Compute Mean Squared Error\n",
        "mse_df = df.select(F.mean((F.col(\"truth\") - F.col(\"prediction\"))**2).alias(\"mse\"))\n",
        "\n",
        "mse_df.show()\n"
      ],
      "metadata": {
        "id": "jTCBnIZut_Q2"
      },
      "execution_count": null,
      "outputs": []
    },
    {
      "cell_type": "code",
      "source": [
        "from pyspark.sql import SparkSession\n",
        "from pyspark.sql import functions as F\n",
        "from pyspark.sql.window import Window\n",
        "\n",
        "# Create Spark session\n",
        "spark = SparkSession.builder.appName(\"SecondOrderDiff\").getOrCreate()\n",
        "\n",
        "# Example DataFrame\n",
        "data = [(1,), (4,), (9,), (16,), (25,)]\n",
        "df = spark.createDataFrame(data, [\"value\"])\n",
        "\n",
        "print(\"Original Data:\")\n",
        "df.show()\n",
        "\n",
        "# Define window\n",
        "w = Window.orderBy(\"value\").rowsBetween(-1, -1)\n",
        "\n",
        "# First-order difference\n",
        "df = df.withColumn(\"first_diff\", F.col(\"value\") - F.lag(\"value\").over(Window.orderBy(\"value\")))\n",
        "\n",
        "# Second-order difference (difference of first differences)\n",
        "df = df.withColumn(\"second_diff\", F.col(\"first_diff\") - F.lag(\"first_diff\").over(Window.orderBy(\"value\")))\n",
        "\n",
        "print(\"After computing differences:\")\n",
        "df.show()\n"
      ],
      "metadata": {
        "id": "k2BcXpUyuCzN"
      },
      "execution_count": null,
      "outputs": []
    },
    {
      "cell_type": "code",
      "source": [
        "from pyspark.sql import SparkSession\n",
        "from pyspark.sql import functions as F\n",
        "\n",
        "# Create Spark session\n",
        "spark = SparkSession.builder.appName(\"PivotExample\").getOrCreate()\n",
        "\n",
        "# Example DataFrame\n",
        "data = [\n",
        "    (\"A\", \"Jan\", 100),\n",
        "    (\"A\", \"Feb\", 150),\n",
        "    (\"B\", \"Jan\", 200),\n",
        "    (\"B\", \"Feb\", 250),\n",
        "    (\"C\", \"Jan\", 300)\n",
        "]\n",
        "df = spark.createDataFrame(data, [\"name\", \"month\", \"sales\"])\n",
        "\n",
        "print(\"Original Data:\")\n",
        "df.show()\n"
      ],
      "metadata": {
        "id": "6FKJ0Mh3uGQk"
      },
      "execution_count": null,
      "outputs": []
    },
    {
      "cell_type": "code",
      "source": [],
      "metadata": {
        "id": "zSiBzZzzuKI1"
      },
      "execution_count": null,
      "outputs": []
    }
  ]
}