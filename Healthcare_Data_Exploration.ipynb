{
  "nbformat": 4,
  "nbformat_minor": 0,
  "metadata": {
    "colab": {
      "private_outputs": true,
      "provenance": [],
      "authorship_tag": "ABX9TyPj+6UIc54eBHTCYm/D4Tef",
      "include_colab_link": true
    },
    "kernelspec": {
      "name": "python3",
      "display_name": "Python 3"
    },
    "language_info": {
      "name": "python"
    }
  },
  "cells": [
    {
      "cell_type": "markdown",
      "metadata": {
        "id": "view-in-github",
        "colab_type": "text"
      },
      "source": [
        "<a href=\"https://colab.research.google.com/github/smruthyunjaya05/MLE/blob/main/Healthcare_Data_Exploration.ipynb\" target=\"_parent\"><img src=\"https://colab.research.google.com/assets/colab-badge.svg\" alt=\"Open In Colab\"/></a>"
      ]
    },
    {
      "cell_type": "code",
      "execution_count": null,
      "metadata": {
        "id": "Wr864acRkEdk"
      },
      "outputs": [],
      "source": [
        "import pandas as pd, numpy as np\n",
        "import matplotlib.pyplot as plt, seaborn as sns\n",
        "import warnings\n",
        "warnings.filterwarnings('ignore')\n",
        "\n"
      ]
    },
    {
      "cell_type": "code",
      "source": [
        "df = pd.read_csv(\"/content/Healthcare-Diabetes.csv\")\n"
      ],
      "metadata": {
        "id": "Vm9ePygUkPSK"
      },
      "execution_count": null,
      "outputs": []
    },
    {
      "cell_type": "code",
      "source": [
        "print(\"Shape:\", df.shape)\n",
        "print(\"Missing values:\", df.isnull().sum())\n",
        "print(\"Duplicate rows:\", df.duplicated().sum())\n",
        "\n",
        "if 'Id' in df.columns:\n",
        "    df.drop(columns='Id', inplace=True)\n",
        "\n",
        "display(df.head())\n",
        "display(df.describe().T)\n",
        "\n",
        "df.hist(figsize=(15, 10), bins=20)\n",
        "plt.show()\n",
        "\n",
        "sns.heatmap(df.corr(), annot=True, cmap=\"coolwarm\")\n",
        "plt.show()\n",
        "\n",
        "sns.countplot(x='Pregnancies', data=df, hue='Outcome')\n",
        "plt.show()\n",
        "\n",
        "pairs = [\n",
        "    (\"Age\", \"BloodPressure\"),\n",
        "    (\"Age\", \"Glucose\"),\n",
        "    (\"Age\", \"SkinThickness\"),\n",
        "    (\"BloodPressure\", \"BMI\"),\n",
        "    (\"Insulin\", \"Glucose\"),\n",
        "    (\"Pregnancies\", \"Glucose\"),\n",
        "    (\"Pregnancies\", \"Insulin\"),\n",
        "    (\"Pregnancies\", \"SkinThickness\"),\n",
        "    (\"Pregnancies\", \"BMI\"),\n",
        "    (\"Pregnancies\", \"BloodPressure\"),\n",
        "    (\"Pregnancies\", \"DiabetesPedigreeFunction\"),\n",
        "    (\"DiabetesPedigreeFunction\", \"Insulin\"),\n",
        "    (\"DiabetesPedigreeFunction\", \"SkinThickness\"),\n",
        "    (\"DiabetesPedigreeFunction\", \"BMI\"),\n",
        "    (\"DiabetesPedigreeFunction\", \"BloodPressure\"),\n",
        "    (\"DiabetesPedigreeFunction\", \"Glucose\"),\n",
        "    (\"DiabetesPedigreeFunction\", \"Age\")\n",
        "]\n",
        "\n",
        "# Scatter plots\n",
        "for x, y in pairs:\n",
        "    sns.scatterplot(data=df, x=x, y=y, hue='Outcome')\n",
        "    plt.show()\n"
      ],
      "metadata": {
        "id": "MfahAyvLkTbN"
      },
      "execution_count": null,
      "outputs": []
    }
  ]
}