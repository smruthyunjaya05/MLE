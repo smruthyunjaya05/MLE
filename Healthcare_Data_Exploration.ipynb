{
  "nbformat": 4,
  "nbformat_minor": 0,
  "metadata": {
    "colab": {
      "private_outputs": true,
      "provenance": [],
      "authorship_tag": "ABX9TyNNDxdmYFnhUoegkgelNHN2",
      "include_colab_link": true
    },
    "kernelspec": {
      "name": "python3",
      "display_name": "Python 3"
    },
    "language_info": {
      "name": "python"
    }
  },
  "cells": [
    {
      "cell_type": "markdown",
      "metadata": {
        "id": "view-in-github",
        "colab_type": "text"
      },
      "source": [
        "<a href=\"https://colab.research.google.com/github/smruthyunjaya05/MLE/blob/main/Healthcare_Data_Exploration.ipynb\" target=\"_parent\"><img src=\"https://colab.research.google.com/assets/colab-badge.svg\" alt=\"Open In Colab\"/></a>"
      ]
    },
    {
      "cell_type": "code",
      "execution_count": null,
      "metadata": {
        "id": "Wr864acRkEdk"
      },
      "outputs": [],
      "source": [
        "import pandas as pd, numpy as np\n",
        "import matplotlib.pyplot as plt, seaborn as sns\n",
        "import warnings\n",
        "warnings.filterwarnings('ignore')\n",
        "\n"
      ]
    },
    {
      "cell_type": "code",
      "source": [
        "df = pd.read_csv(\"/content/Healthcare-Diabetes.csv\")\n"
      ],
      "metadata": {
        "id": "Vm9ePygUkPSK"
      },
      "execution_count": null,
      "outputs": []
    },
    {
      "cell_type": "code",
      "source": [
        "print(\"Shape:\", df.shape)\n",
        "print(\"Missing values:\", df.isnull().sum())\n",
        "print(\"Duplicate rows:\", df.duplicated().sum())\n",
        "\n",
        "if 'Id' in df.columns:\n",
        "    df.drop(columns='Id', inplace=True)\n",
        "\n",
        "display(df.head())\n",
        "display(df.describe().T)\n",
        "\n",
        "df.hist(figsize=(15, 10), bins=20)\n",
        "plt.show()\n",
        "\n",
        "sns.heatmap(df.corr(), annot=True, cmap=\"coolwarm\")\n",
        "plt.show()\n",
        "\n",
        "sns.countplot(x='Pregnancies', data=df, hue='Outcome')\n",
        "plt.show()\n",
        "\n",
        "pairs = [\n",
        "    (\"Age\", \"BloodPressure\"),\n",
        "    (\"Age\", \"Glucose\"),\n",
        "    (\"Age\", \"SkinThickness\"),\n",
        "    (\"BloodPressure\", \"BMI\"),\n",
        "    (\"Insulin\", \"Glucose\"),\n",
        "    (\"Pregnancies\", \"Glucose\"),\n",
        "    (\"Pregnancies\", \"Insulin\"),\n",
        "    (\"Pregnancies\", \"SkinThickness\"),\n",
        "    (\"Pregnancies\", \"BMI\"),\n",
        "    (\"Pregnancies\", \"BloodPressure\"),\n",
        "    (\"Pregnancies\", \"DiabetesPedigreeFunction\"),\n",
        "    (\"DiabetesPedigreeFunction\", \"Insulin\"),\n",
        "    (\"DiabetesPedigreeFunction\", \"SkinThickness\"),\n",
        "    (\"DiabetesPedigreeFunction\", \"BMI\"),\n",
        "    (\"DiabetesPedigreeFunction\", \"BloodPressure\"),\n",
        "    (\"DiabetesPedigreeFunction\", \"Glucose\"),\n",
        "    (\"DiabetesPedigreeFunction\", \"Age\")\n",
        "]\n",
        "\n",
        "# Scatter plots\n",
        "for x, y in pairs:\n",
        "    sns.scatterplot(data=df, x=x, y=y, hue='Outcome')\n",
        "    plt.show()\n"
      ],
      "metadata": {
        "id": "MfahAyvLkTbN"
      },
      "execution_count": null,
      "outputs": []
    },
    {
      "cell_type": "code",
      "source": [
        "import pandas as pd, numpy as np\n",
        "from sklearn.preprocessing import StandardScaler\n",
        "\n",
        "df = pd.read_csv(\"Healthcare-Diabetes.csv\")\n",
        "df.drop(columns='Id', errors='ignore', inplace=True)\n",
        "\n",
        "zero_cols = ['Glucose', 'BloodPressure', 'SkinThickness', 'Insulin', 'BMI']\n",
        "df[zero_cols] = df[zero_cols].replace(0, np.nan).fillna(df[zero_cols].median())\n",
        "\n",
        "df['AgeGroup'] = pd.cut(df['Age'], bins=[20, 30, 40, 50, 60, 70, 80], labels=['21-30', '31-40', '41-50', '51-60', '61-70', '71-80'])\n",
        "df = pd.get_dummies(df, columns=['AgeGroup'], drop_first=True)\n",
        "\n",
        "df['BMI_Glucose'] = df['BMI'] * df['Glucose']\n",
        "\n",
        "scale_cols = ['Pregnancies', 'Glucose', 'BloodPressure', 'SkinThickness', 'Insulin', 'BMI', 'DiabetesPedigreeFunction', 'Age', 'BMI_Glucose']\n",
        "df[scale_cols] = StandardScaler().fit_transform(df[scale_cols])\n",
        "\n",
        "df.head()\n"
      ],
      "metadata": {
        "id": "3crGV-HuoUY_"
      },
      "execution_count": null,
      "outputs": []
    },
    {
      "cell_type": "code",
      "source": [
        "!pip install -q xgboost lightgbm\n",
        "\n",
        "import pandas as pd, numpy as np\n",
        "from sklearn.model_selection import train_test_split\n",
        "from sklearn.preprocessing import StandardScaler\n",
        "from sklearn.metrics import accuracy_score\n",
        "from sklearn.linear_model import LogisticRegression\n",
        "from sklearn.tree import DecisionTreeClassifier\n",
        "from sklearn.ensemble import RandomForestClassifier, AdaBoostClassifier\n",
        "from xgboost import XGBClassifier\n",
        "from lightgbm import LGBMClassifier\n",
        "from sklearn.svm import SVC\n",
        "\n",
        "df = pd.read_csv(\"Healthcare-Diabetes.csv\")\n",
        "df.drop(columns='Id', inplace=True)\n",
        "zero_cols = ['Glucose', 'BloodPressure', 'SkinThickness', 'Insulin', 'BMI']\n",
        "df[zero_cols] = df[zero_cols].replace(0, np.nan).fillna(df[zero_cols].median())\n",
        "\n",
        "X = df.drop('Outcome', axis=1)\n",
        "y = df['Outcome']\n",
        "X = pd.DataFrame(StandardScaler().fit_transform(X), columns=X.columns)\n",
        "\n",
        "# Outlier removal using IQR\n",
        "Q1, Q3 = X.quantile(0.25), X.quantile(0.75)\n",
        "IQR = Q3 - Q1\n",
        "mask = ~((X < (Q1 - 1.5 * IQR)) | (X > (Q3 + 1.5 * IQR))).any(axis=1)\n",
        "X, y = X[mask], y[mask]\n",
        "\n",
        "X_train, X_test, y_train, y_test = train_test_split(X, y, test_size=0.3, random_state=42)\n",
        "\n",
        "models = {\n",
        "    \"LogReg\": LogisticRegression(max_iter=1000),\n",
        "    \"SVM\": SVC(),\n",
        "    \"DecisionTree\": DecisionTreeClassifier(),\n",
        "    \"RandomForest\": RandomForestClassifier(),\n",
        "    \"AdaBoost\": AdaBoostClassifier(),\n",
        "    \"XGBoost\": XGBClassifier(use_label_encoder=False, eval_metric='logloss'),\n",
        "    \"LightGBM\": LGBMClassifier()\n",
        "}\n",
        "\n",
        "results = {}\n",
        "for name, model in models.items():\n",
        "    model.fit(X_train, y_train)\n",
        "    results[name] = accuracy_score(y_test, model.predict(X_test))\n",
        "\n",
        "for model, acc in results.items():\n",
        "    print(f\"{model}: {acc:.4f}\")\n"
      ],
      "metadata": {
        "id": "IP_ZVszAoa3S"
      },
      "execution_count": null,
      "outputs": []
    }
  ]
}