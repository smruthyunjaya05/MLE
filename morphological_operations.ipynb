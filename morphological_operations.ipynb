{
  "nbformat": 4,
  "nbformat_minor": 0,
  "metadata": {
    "colab": {
      "private_outputs": true,
      "provenance": [],
      "authorship_tag": "ABX9TyPwdDuA5Yw5ItFuWa9fjj/6",
      "include_colab_link": true
    },
    "kernelspec": {
      "name": "python3",
      "display_name": "Python 3"
    },
    "language_info": {
      "name": "python"
    }
  },
  "cells": [
    {
      "cell_type": "markdown",
      "metadata": {
        "id": "view-in-github",
        "colab_type": "text"
      },
      "source": [
        "<a href=\"https://colab.research.google.com/github/smruthyunjaya05/MLE/blob/main/morphological_operations.ipynb\" target=\"_parent\"><img src=\"https://colab.research.google.com/assets/colab-badge.svg\" alt=\"Open In Colab\"/></a>"
      ]
    },
    {
      "cell_type": "code",
      "execution_count": null,
      "metadata": {
        "id": "v0LWZHPiPqYR"
      },
      "outputs": [],
      "source": [
        "import cv2\n",
        "import numpy as np\n",
        "import matplotlib.pyplot as plt\n"
      ]
    },
    {
      "cell_type": "code",
      "source": [
        "img = cv2.imread('/content/fingerprint.jpg')\n",
        "img_rgb = cv2.cvtColor(img, cv2.COLOR_BGR2RGB)"
      ],
      "metadata": {
        "id": "G0QpQxUMP2cs"
      },
      "execution_count": null,
      "outputs": []
    },
    {
      "cell_type": "code",
      "source": [
        "kernel = np.ones((5, 5), np.uint8)\n",
        "dilate = cv2.dilate(img, kernel)\n",
        "erode = cv2.erode(img, kernel)\n",
        "open_img = cv2.morphologyEx(img, cv2.MORPH_OPEN, kernel)\n",
        "close_img = cv2.morphologyEx(img, cv2.MORPH_CLOSE, kernel)"
      ],
      "metadata": {
        "id": "DEsCRqoAP57_"
      },
      "execution_count": null,
      "outputs": []
    },
    {
      "cell_type": "code",
      "source": [
        "results = [img_rgb,\n",
        "           cv2.cvtColor(dilate, cv2.COLOR_BGR2RGB),\n",
        "           cv2.cvtColor(erode, cv2.COLOR_BGR2RGB),\n",
        "           cv2.cvtColor(open_img, cv2.COLOR_BGR2RGB),\n",
        "           cv2.cvtColor(close_img, cv2.COLOR_BGR2RGB)]\n",
        "\n",
        "titles = ['Original', 'Dilation', 'Erosion', 'Opening', 'Closing']\n",
        "\n",
        "plt.figure(figsize=(15, 4))\n",
        "for i in range(5):\n",
        "    plt.subplot(1, 5, i+1)\n",
        "    plt.imshow(results[i])\n",
        "    plt.title(titles[i])\n",
        "    plt.axis('off')\n",
        "plt.tight_layout()\n",
        "plt.show()"
      ],
      "metadata": {
        "id": "RVT0ne_TP-Q8"
      },
      "execution_count": null,
      "outputs": []
    },
    {
      "cell_type": "code",
      "source": [],
      "metadata": {
        "id": "1KqBqkHJQHxU"
      },
      "execution_count": null,
      "outputs": []
    }
  ]
}