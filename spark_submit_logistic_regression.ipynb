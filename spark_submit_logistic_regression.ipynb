{
  "nbformat": 4,
  "nbformat_minor": 0,
  "metadata": {
    "colab": {
      "private_outputs": true,
      "provenance": [],
      "authorship_tag": "ABX9TyN1ZBoNpL5c2HR+bRkBPE4/",
      "include_colab_link": true
    },
    "kernelspec": {
      "name": "python3",
      "display_name": "Python 3"
    },
    "language_info": {
      "name": "python"
    }
  },
  "cells": [
    {
      "cell_type": "markdown",
      "metadata": {
        "id": "view-in-github",
        "colab_type": "text"
      },
      "source": [
        "<a href=\"https://colab.research.google.com/github/smruthyunjaya05/MLE/blob/main/spark_submit_logistic_regression.ipynb\" target=\"_parent\"><img src=\"https://colab.research.google.com/assets/colab-badge.svg\" alt=\"Open In Colab\"/></a>"
      ]
    },
    {
      "cell_type": "code",
      "execution_count": null,
      "metadata": {
        "id": "7Ce70fhlRwSa"
      },
      "outputs": [],
      "source": [
        "from pyspark.sql import SparkSession\n",
        "from pyspark.ml.classification import LogisticRegression\n",
        "from pyspark.ml.linalg import Vectors\n",
        "\n",
        "# Start session\n",
        "spark = SparkSession.builder.appName(\"BasicMLlib\").getOrCreate()\n",
        "\n",
        "# Sample DataFrame\n",
        "data = spark.createDataFrame([\n",
        "    (0.0, Vectors.dense([0.0, 1.1, 0.1])),\n",
        "    (1.0, Vectors.dense([2.0, 1.0, -1.0])),\n",
        "    (0.0, Vectors.dense([2.0, 1.3, 1.0])),\n",
        "    (1.0, Vectors.dense([0.0, 1.2, -0.5]))\n",
        "], [\"label\", \"features\"])\n",
        "\n",
        "# Train logistic regression model\n",
        "lr = LogisticRegression()\n",
        "model = lr.fit(data)\n",
        "\n",
        "# Prediction\n",
        "predictions = model.transform(data)\n",
        "\n",
        "# Show results\n",
        "predictions.select(\"features\", \"label\", \"prediction\").show()"
      ]
    }
  ]
}