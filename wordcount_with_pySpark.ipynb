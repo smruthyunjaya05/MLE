{
  "nbformat": 4,
  "nbformat_minor": 0,
  "metadata": {
    "colab": {
      "private_outputs": true,
      "provenance": [],
      "authorship_tag": "ABX9TyPi++0SyqCZNaM7VNB2q52/",
      "include_colab_link": true
    },
    "kernelspec": {
      "name": "python3",
      "display_name": "Python 3"
    },
    "language_info": {
      "name": "python"
    }
  },
  "cells": [
    {
      "cell_type": "markdown",
      "metadata": {
        "id": "view-in-github",
        "colab_type": "text"
      },
      "source": [
        "<a href=\"https://colab.research.google.com/github/smruthyunjaya05/MLE/blob/main/wordcount_with_pySpark.ipynb\" target=\"_parent\"><img src=\"https://colab.research.google.com/assets/colab-badge.svg\" alt=\"Open In Colab\"/></a>"
      ]
    },
    {
      "cell_type": "code",
      "execution_count": null,
      "metadata": {
        "id": "dpEKeczWNYxO"
      },
      "outputs": [],
      "source": [
        "from pyspark import SparkContext\n",
        "\n",
        "# Initialize SparkContext\n",
        "sc = SparkContext(\"local\", \"wordcount\")\n",
        "\n",
        "# Input text\n",
        "txt = \"pyspark makes big data processing fast and easy with python\"\n",
        "\n",
        "# Create RDD\n",
        "rdd = sc.parallelize([txt])\n",
        "\n",
        "# Word count pipeline\n",
        "counts = (\n",
        "    rdd.flatMap(lambda x: x.split())\n",
        "       .map(lambda word: (word, 1))\n",
        "       .reduceByKey(lambda a, b: a + b)\n",
        ")\n",
        "\n",
        "# Collect and print results\n",
        "print(counts.collect())\n",
        "\n",
        "# Stop SparkContext\n",
        "sc.stop()\n"
      ]
    },
    {
      "cell_type": "code",
      "source": [],
      "metadata": {
        "id": "kLhY2DGANxJI"
      },
      "execution_count": null,
      "outputs": []
    }
  ]
}